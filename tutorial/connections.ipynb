{
 "cells": [
  {
   "cell_type": "markdown",
   "metadata": {},
   "source": [
    "# Connections\n",
    "\n",
    "## Buffered Socket Connections"
   ]
  },
  {
   "cell_type": "code",
   "execution_count": 8,
   "metadata": {},
   "outputs": [],
   "source": [
    "from proxy.core.connection import TcpServerConnection\n",
    "from proxy.common.utils import build_http_request\n",
    "from proxy.http.methods import httpMethods\n",
    "from proxy.http.parser import HttpParser, httpParserTypes\n",
    "\n",
    "request = build_http_request(\n",
    "    method=httpMethods.GET,\n",
    "    url=b'/',\n",
    "    headers={\n",
    "        b'Host': b'jaxl.com',\n",
    "    }\n",
    ")\n",
    "\n",
    "client = TcpServerConnection('jaxl.com', 80)\n",
    "client.connect()\n",
    "client.queue(memoryview(request))\n",
    "client.flush()\n",
    "\n",
    "response = HttpParser(httpParserTypes.RESPONSE_PARSER)\n",
    "response.parse(client.recv().tobytes())\n",
    "client.close()\n",
    "\n",
    "assert response.is_complete\n",
    "assert response.code == b'301'\n",
    "assert response.reason == b'Moved Permanently'\n",
    "assert response.has_header(b'location')\n",
    "assert response.header(b'location') == b'https://jaxl.com/'"
   ]
  }
 ],
 "metadata": {
  "interpreter": {
   "hash": "da9d6927d62b2b95bde149eedfbd5367cb7f465aad65a736f49c99ee3db39df7"
  },
  "kernelspec": {
   "display_name": "Python 3.10.0 64-bit ('venv310': venv)",
   "language": "python",
   "name": "python3"
  },
  "language_info": {
   "codemirror_mode": {
    "name": "ipython",
    "version": 3
   },
   "file_extension": ".py",
   "mimetype": "text/x-python",
   "name": "python",
   "nbconvert_exporter": "python",
   "pygments_lexer": "ipython3",
   "version": "3.10.0"
  },
  "orig_nbformat": 4
 },
 "nbformat": 4,
 "nbformat_minor": 2
}
